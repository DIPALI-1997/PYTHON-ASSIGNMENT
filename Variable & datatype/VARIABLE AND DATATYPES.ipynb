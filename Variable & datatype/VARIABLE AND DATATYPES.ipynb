{
 "cells": [
  {
   "cell_type": "markdown",
   "id": "cd52974e",
   "metadata": {},
   "source": [
    "# Variable and Data types"
   ]
  },
  {
   "cell_type": "markdown",
   "id": "8c593556",
   "metadata": {},
   "source": [
    "Que.1 Swapping of two values without usinf third variable"
   ]
  },
  {
   "cell_type": "code",
   "execution_count": 1,
   "id": "4a84f63f",
   "metadata": {},
   "outputs": [
    {
     "name": "stdout",
     "output_type": "stream",
     "text": [
      "enter the value a: 56\n",
      "enter the value of b: 67\n"
     ]
    },
    {
     "name": "stderr",
     "output_type": "stream",
     "text": [
      "INFO:root:Before swapping:a = 56,b = 67\n",
      "INFO:root:after swapping:a=67,b=56\n"
     ]
    }
   ],
   "source": [
    "import logging\n",
    "\n",
    "#set the logging level to INFO\n",
    "logging.basicConfig(level=logging.INFO)\n",
    "\n",
    "#define and input two values to swap\n",
    "a = int(input(\"enter the value a: \"))\n",
    "b = int(input(\"enter the value of b: \"))\n",
    "\n",
    "#print the original value\n",
    "logging.info(f\"Before swapping:a = {a},b = {b}\")\n",
    "\n",
    "    #try to swap the values using tuple packing and unpacking\n",
    "try:\n",
    "    a ,b = b, a\n",
    "    \n",
    "except exception as e:\n",
    "    #if an exception occure log an error massage\n",
    "    logging.error(f\"an error occured while swapping: {e}\")\n",
    "\n",
    "else:\n",
    "    #if no exception occured,log the swap values\n",
    "    logging.info(f\"after swapping:a={a},b={b}\")"
   ]
  },
  {
   "cell_type": "markdown",
   "id": "9878575b",
   "metadata": {},
   "source": [
    "Que.2 input the integer value and then convert it into string and print the type of converted data type."
   ]
  },
  {
   "cell_type": "code",
   "execution_count": 2,
   "id": "36621d07",
   "metadata": {},
   "outputs": [
    {
     "name": "stdout",
     "output_type": "stream",
     "text": [
      "enter the integer value :67\n"
     ]
    },
    {
     "name": "stderr",
     "output_type": "stream",
     "text": [
      "INFO:root:converted string:67,type:<class 'str'>\n"
     ]
    }
   ],
   "source": [
    "import logging\n",
    "\n",
    "#set the logging level to INFO\n",
    "logging.basicConfig(level=logging.INFO)\n",
    "\n",
    "#input an integer value from the user\n",
    "a = int(input(\"enter the integer value :\"))\n",
    "\n",
    "#try to convert integer(a) into string(b)\n",
    "try:\n",
    "    b = str(a)\n",
    "    #print the type of converted string(b)\n",
    "    logging.info(f\"converted string:{b},type:{type(b)}\")\n",
    "\n",
    "\n",
    "except ValueError:\n",
    "    #if user input not a valid integer (a),log the error massage\n",
    "\n",
    "    logging.error(f\"logging.error:{a} is not an integer.\")\n",
    "\n"
   ]
  },
  {
   "cell_type": "markdown",
   "id": "371ab383",
   "metadata": {},
   "source": [
    "Que.3 Make a list of the number and add a new element in the end of the list\n",
    "and remove first element from the list and print modified list"
   ]
  },
  {
   "cell_type": "code",
   "execution_count": 3,
   "id": "fec19fe5",
   "metadata": {},
   "outputs": [
    {
     "name": "stderr",
     "output_type": "stream",
     "text": [
      "INFO:root:original list: [2, 4, 6, 8, 10, 12, 14, 16]\n",
      "INFO:root:list after adding 18: [2, 4, 6, 8, 10, 12, 14, 16, 18]\n",
      "INFO:root:List after removing the first element: [4, 6, 8, 10, 12, 14, 16, 18]\n"
     ]
    }
   ],
   "source": [
    "import logging\n",
    "\n",
    "#set the logging level to INFO\n",
    "logging.basicConfig(level=logging.INFO)\n",
    "\n",
    "#make a list of number\n",
    "lst = [2,4,6,8,10,12,14,16]\n",
    "\n",
    "#print the original list\n",
    "logging.info(f\"original list: {lst}\")\n",
    "\n",
    "#add a new element at the end of the list\n",
    "lst.append(18)\n",
    "\n",
    "#print the list after adding the element\n",
    "logging.info(f\"list after adding 18: {lst}\")\n",
    "\n",
    "#try to remove the first element from the list\n",
    "try:\n",
    "    lst.pop(0)\n",
    "\n",
    "except IndexError:\n",
    "    #if the list is empty log the error massage\n",
    "    logging.error(\"Cannot remove the element from an empty list\")\n",
    "    \n",
    "\n",
    "else:\n",
    "    #print the list after removing element \n",
    "    logging.info(f\"List after removing the first element: {lst}\")\n",
    "    "
   ]
  },
  {
   "cell_type": "markdown",
   "id": "88ff01d3",
   "metadata": {},
   "source": [
    "Que.4 Assuming the program that input name and age and then using string formatting display a massage "
   ]
  },
  {
   "cell_type": "code",
   "execution_count": 4,
   "id": "2276ec77",
   "metadata": {},
   "outputs": [
    {
     "name": "stdout",
     "output_type": "stream",
     "text": [
      "enter the name: Dipali\n",
      "enter the age: 25\n",
      "Hellow Dipali !You are 25 years old.\n"
     ]
    }
   ],
   "source": [
    "name = input(\"enter the name: \")\n",
    "age  = int(input(\"enter the age: \"))\n",
    "print(\"Hellow\", name,\"!You are\", age, \"years old.\")\n"
   ]
  },
  {
   "cell_type": "code",
   "execution_count": 5,
   "id": "2d7f3d79",
   "metadata": {},
   "outputs": [
    {
     "name": "stdout",
     "output_type": "stream",
     "text": [
      "enetr the name : Dipali\n",
      "enter the age: 26\n"
     ]
    },
    {
     "name": "stderr",
     "output_type": "stream",
     "text": [
      "INFO:root:Hello,Dipali. You are 26 Years old!\n"
     ]
    }
   ],
   "source": [
    "import logging\n",
    "\n",
    "#set the logging level to INFO\n",
    "logging.basicConfig(level=logging.INFO)\n",
    "\n",
    "#input the name and age from the user\n",
    "name = input(\"enetr the name : \")\n",
    "age = input(\"enter the age: \")\n",
    "\n",
    "#try to convert the age into an integer\n",
    "try:\n",
    "    age = int(age)\n",
    "    \n",
    "    #use string formatting to display a massage\n",
    "    massage=f\"Hello,{name}. You are {age} Years old!\"\n",
    "    logging.info(massage)\n",
    "    \n",
    "except ValueError:\n",
    "    #if the age is not valid integer , log the error massage\n",
    "    logging.error(f\"Invalid age: {age} is not an integer.\")\n",
    "    \n",
    "         "
   ]
  },
  {
   "cell_type": "markdown",
   "id": "b1cafbc8",
   "metadata": {},
   "source": [
    "Que.5 Create variables for two numbers and perform addition,sbtrsctionQue,multiplication,and division operation.print the results."
   ]
  },
  {
   "cell_type": "code",
   "execution_count": 6,
   "id": "3ac5fe85",
   "metadata": {},
   "outputs": [
    {
     "name": "stdout",
     "output_type": "stream",
     "text": [
      "enter the number: 34\n",
      "enter the number: 45\n",
      "sum : 79\n",
      "difference :  -11\n",
      "product :  1530\n",
      "div : 0.7555555555555555\n"
     ]
    }
   ],
   "source": [
    "x = int(input(\"enter the number: \"))\n",
    "y = int(input(\"enter the number: \"))\n",
    "print(\"sum :\",x+y)\n",
    "print(\"difference : \",x-y)\n",
    "print(\"product : \",x*y)\n",
    "print(\"div :\",x/y)"
   ]
  },
  {
   "cell_type": "code",
   "execution_count": 7,
   "id": "0882da5c",
   "metadata": {},
   "outputs": [
    {
     "name": "stdout",
     "output_type": "stream",
     "text": [
      "ebter the first number: 45\n",
      "enter the second number: 56\n"
     ]
    },
    {
     "name": "stderr",
     "output_type": "stream",
     "text": [
      "INFO:root:45 + 56 = 101\n",
      "INFO:root:45 - 56 = -11\n",
      "INFO:root:45 * 56 = 2520\n",
      "INFO:root:45 / 56 = 0.8035714285714286\n"
     ]
    }
   ],
   "source": [
    "#using logging and try and except\n",
    "import logging\n",
    "\n",
    "#set the logging level to INFO\n",
    "logging.basicConfig(level=logging.INFO)\n",
    "\n",
    "\n",
    "#input two numbers from the user\n",
    "x = (input(\"ebter the first number: \"))\n",
    "y = (input(\"enter the second number: \"))\n",
    "\n",
    "#try to convert the input into integers\n",
    "try:\n",
    "    x = int(x)\n",
    "    y = int(y)\n",
    "    \n",
    "    # performe arithmatic operations and print the results\n",
    "    logging.info(f\"{x} + {y} = {x + y}\")\n",
    "    logging.info(f\"{x} - {y} = {x - y}\")\n",
    "    logging.info(f\"{x} * {y} = {x * y}\")\n",
    "    logging.info(f\"{x} / {y} = {x / y}\")\n",
    "    \n",
    "except ValueError:\n",
    "    \n",
    "    # if the inputs are not valid integers, log the error massage\n",
    "    logging.error(\"Invalid inputs:Both number must be integer\")\n",
    "    \n",
    "    "
   ]
  },
  {
   "cell_type": "markdown",
   "id": "93e46089",
   "metadata": {},
   "source": [
    "Que.6 Define a constant variable in Python and try to modify it's value.Explain whether it's possible or not."
   ]
  },
  {
   "cell_type": "code",
   "execution_count": 8,
   "id": "e7116723",
   "metadata": {},
   "outputs": [
    {
     "name": "stdout",
     "output_type": "stream",
     "text": [
      "my_constant\n",
      "my modified constant 45\n"
     ]
    }
   ],
   "source": [
    "my_constant=56\n",
    "my_constant=45\n",
    "print(\"my_constant\")\n",
    "print(\"my modified constant\",my_constant)"
   ]
  },
  {
   "cell_type": "code",
   "execution_count": 10,
   "id": "46f7b1e1",
   "metadata": {},
   "outputs": [
    {
     "name": "stderr",
     "output_type": "stream",
     "text": [
      "INFO:root:Original value: PI = 3.14\n",
      "INFO:root:Modified value: PI = 3.15\n"
     ]
    }
   ],
   "source": [
    "#using try and except and logging\n",
    "import logging\n",
    "\n",
    "# set the logging level to INFO\n",
    "logging.basicConfig(level=logging.INFO)\n",
    "\n",
    "# define a constant variable\n",
    "PI = 3.14\n",
    "\n",
    "# print the original value\n",
    "logging.info(f\"Original value: PI = {PI}\")\n",
    "\n",
    "# try to modify the value\n",
    "try:\n",
    "    PI = 3.15\n",
    "    \n",
    "except exception as e:\n",
    "    # if an exception occure log the error massage and traceback\n",
    "    logging.error(e. exc_info==True)\n",
    "    \n",
    "else:\n",
    "    # if no exception occure,log the modified value\n",
    "    logging.info(f\"Modified value: PI = {PI}\")\n",
    "    "
   ]
  },
  {
   "cell_type": "markdown",
   "id": "9fed95c4",
   "metadata": {},
   "source": [
    "Que.7 Write a program that cheacks the data type of a variable and prints a massage based on whether it's an integer, float, string or another type."
   ]
  },
  {
   "cell_type": "code",
   "execution_count": 13,
   "id": "225b74b5",
   "metadata": {},
   "outputs": [
    {
     "name": "stdout",
     "output_type": "stream",
     "text": [
      "enter the value of x :56\n",
      "x is an integer\n"
     ]
    }
   ],
   "source": [
    "# Define a variable\n",
    "x = int(input(\"enter the value of x :\"))\n",
    "\n",
    " \n",
    "if type(x) == int:\n",
    "    print(\"x is an integer\")\n",
    "elif type(x) == float:\n",
    "    print(\"x is a float\")\n",
    "elif type(x) == str:\n",
    "    print(\"x is a string\")\n",
    "else:\n",
    "    print(\"x is another type\")\n",
    "    "
   ]
  },
  {
   "cell_type": "code",
   "execution_count": 14,
   "id": "0c77bc53",
   "metadata": {},
   "outputs": [
    {
     "name": "stdout",
     "output_type": "stream",
     "text": [
      "enter any number: 56\n"
     ]
    },
    {
     "name": "stderr",
     "output_type": "stream",
     "text": [
      "INFO:root:the data type of 56 is <class 'str'>.\n"
     ]
    }
   ],
   "source": [
    "#using try and except and logging\n",
    "import logging\n",
    "\n",
    "# set the logging level to INFO\n",
    "logging.basicConfig(level=logging.INFO)\n",
    "\n",
    "# define a variable with any value\n",
    "x = input(\"enter any number: \")\n",
    "\n",
    "#try to cheack the data type of the variable\n",
    "try:\n",
    "    # use the type function to cheack the data type\n",
    "    data_type = type(x)\n",
    "    \n",
    "    \n",
    "    # use string formatting to print the massage\n",
    "    logging.info(f\"the data type of {x} is {data_type}.\")\n",
    "    \n",
    "except Exception as e:\n",
    "    # if an exception occure , log the error massage and traceback\n",
    "    logging.error(e,exc_info = True)\n",
    "    "
   ]
  },
  {
   "cell_type": "markdown",
   "id": "e208ac5e",
   "metadata": {},
   "source": [
    "Que.8 Generates a list of a square of numbers from 1 to 10 using list comprehension."
   ]
  },
  {
   "cell_type": "code",
   "execution_count": 15,
   "id": "00f68049",
   "metadata": {},
   "outputs": [
    {
     "name": "stdout",
     "output_type": "stream",
     "text": [
      "[1, 4, 9, 16, 25, 36, 49, 64, 81, 100]\n"
     ]
    }
   ],
   "source": [
    "lst=[1,2,3,4,5,6,7,8,9,10]\n",
    "squared_lst= [x**2 for x in lst]   \n",
    "print(squared_lst)"
   ]
  },
  {
   "cell_type": "code",
   "execution_count": 16,
   "id": "179bafe9",
   "metadata": {},
   "outputs": [
    {
     "name": "stderr",
     "output_type": "stream",
     "text": [
      "INFO:root:The list of squares is [1, 4, 9, 16, 25, 36, 49, 64, 81, 100].\n"
     ]
    }
   ],
   "source": [
    "#using try and except and logging\n",
    "import logging\n",
    "\n",
    "# set the logging level to INFO\n",
    "logging.basicConfig(level=logging.INFO)\n",
    "\n",
    "# try to generate a list of square using list comprehension\n",
    "try:\n",
    "    squares = [x**2 for x in range (1,11)]\n",
    "    \n",
    "    # print the list of squares\n",
    "    logging.info(f\"The list of squares is {squares}.\")\n",
    "    \n",
    "except Exception as e:\n",
    "    # if an exception occure , log the error massage and traceback\n",
    "    \n",
    "    logging.error(e,exc_info = True)\n",
    "        "
   ]
  },
  {
   "cell_type": "markdown",
   "id": "82d7b63d",
   "metadata": {},
   "source": [
    "Que.9 Create a program that attempts to convert a string to an integer. Handle any potential errors and print an error massage."
   ]
  },
  {
   "cell_type": "code",
   "execution_count": 17,
   "id": "2713bdba",
   "metadata": {},
   "outputs": [
    {
     "name": "stdout",
     "output_type": "stream",
     "text": [
      "123\n",
      "<class 'int'>\n"
     ]
    }
   ],
   "source": [
    "a=\"123\"\n",
    "b=int(a)\n",
    "print(b)\n",
    "print(type(b))"
   ]
  },
  {
   "cell_type": "code",
   "execution_count": 20,
   "id": "ac58d1a3",
   "metadata": {},
   "outputs": [
    {
     "name": "stdout",
     "output_type": "stream",
     "text": [
      "enter a string:four\n"
     ]
    },
    {
     "name": "stderr",
     "output_type": "stream",
     "text": [
      "ERROR:root:Invalid input. Please enter the valid integer.\n"
     ]
    }
   ],
   "source": [
    "#using logging and try and try and except\n",
    "import logging\n",
    "\n",
    "# set the logging level to INFO\n",
    "logging.basicConfig(level=logging.INFO)\n",
    "\n",
    "# input a string from the user\n",
    "my_string = input(\"enter a string:\")\n",
    "\n",
    "# try to convert a string to an integer\n",
    "try:\n",
    "    num = int(my_string)\n",
    "\n",
    "    # print the converted integer\n",
    "    logging.info(f\"Converted integer: = {num}\")\n",
    "\n",
    "except ValueError:\n",
    "    # if the string not a valid integer, print an error massage\n",
    "    logging.error(f\"Invalid input. Please enter the valid integer.\")\n"
   ]
  },
  {
   "cell_type": "markdown",
   "id": "935dc37a",
   "metadata": {},
   "source": [
    "Que.10 Write a program with variables that follow both the snake_case and camelCase naming conventions. Print a massage explaining the convention."
   ]
  },
  {
   "cell_type": "code",
   "execution_count": 21,
   "id": "e489ecfe",
   "metadata": {},
   "outputs": [
    {
     "name": "stdout",
     "output_type": "stream",
     "text": [
      "Hello! Dipali shastrakar\n",
      "1. In snake_case the word seperated by underscore and all letters are lowercase. 2. In CamelCase, words are concatenated together and the first letter of each word is capitalized except for the first word.\n"
     ]
    }
   ],
   "source": [
    "snake_case=\"Dipali\"\n",
    "CamelCase=\"shastrakar\"\n",
    "print(\"Hello!\",snake_case,CamelCase)\n",
    "print(\"1. In snake_case the word seperated by underscore and all letters are lowercase.\",\n",
    "       \"2. In CamelCase, words are concatenated together and the first letter of each word is capitalized except for the first word.\")"
   ]
  },
  {
   "cell_type": "code",
   "execution_count": null,
   "id": "97afc18a",
   "metadata": {},
   "outputs": [],
   "source": []
  }
 ],
 "metadata": {
  "kernelspec": {
   "display_name": "Python 3 (ipykernel)",
   "language": "python",
   "name": "python3"
  },
  "language_info": {
   "codemirror_mode": {
    "name": "ipython",
    "version": 3
   },
   "file_extension": ".py",
   "mimetype": "text/x-python",
   "name": "python",
   "nbconvert_exporter": "python",
   "pygments_lexer": "ipython3",
   "version": "3.11.5"
  }
 },
 "nbformat": 4,
 "nbformat_minor": 5
}
