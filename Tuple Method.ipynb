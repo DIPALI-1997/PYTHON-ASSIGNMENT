{
 "cells": [
  {
   "cell_type": "code",
   "execution_count": 2,
   "id": "d1b37ed4-8f0d-4999-b0b0-1f7e5e06ba8b",
   "metadata": {},
   "outputs": [
    {
     "name": "stdout",
     "output_type": "stream",
     "text": [
      "How many favorite colors do you have? 7\n",
      "Enter favorite color 1: Red\n",
      "Enter favorite color 2: Black\n",
      "Enter favorite color 3: Purple\n",
      "Enter favorite color 4: Gray\n",
      "Enter favorite color 5: Blue\n",
      "Enter favorite color 6: Green\n",
      "Enter favorite color 7: Pink\n",
      "Favorite colors: ('Red', 'Black', 'Purple', 'Gray', 'Blue', 'Green', 'Pink')\n"
     ]
    }
   ],
   "source": [
    "import logging\n",
    "\n",
    "class FavoriteColors:\n",
    "    def __init__(self):\n",
    "        self.colors = []\n",
    "\n",
    "    def add_color(self, color):\n",
    "        try:\n",
    "            self.colors.append(color)\n",
    "            logging.info(f\"Added '{color}' to favorite colors.\")\n",
    "        except Exception as e:\n",
    "            logging.error(f\"Error adding color: {e}\")\n",
    "\n",
    "    def get_colors(self):\n",
    "        return tuple(self.colors)\n",
    "\n",
    "# Example usage\n",
    "favorite_colors = FavoriteColors()\n",
    "num_colors = int(input(\"How many favorite colors do you have? \"))\n",
    "for i in range(num_colors):\n",
    "    color = input(f\"Enter favorite color {i+1}: \")\n",
    "    favorite_colors.add_color(color)\n",
    "\n",
    "print(f\"Favorite colors: {favorite_colors.get_colors()}\")"
   ]
  },
  {
   "cell_type": "code",
   "execution_count": null,
   "id": "30fdc32d-284d-423b-9b88-e789e98ea8c9",
   "metadata": {},
   "outputs": [],
   "source": [
    "hello\n"
   ]
  },
  {
   "cell_type": "code",
   "execution_count": 3,
   "id": "14d01fcd-fd14-4cfa-985e-27f34b4ba302",
   "metadata": {},
   "outputs": [
    {
     "name": "stdout",
     "output_type": "stream",
     "text": [
      "Enter a day number (1-7): 7\n",
      "Day 7 is Sunday.\n"
     ]
    }
   ],
   "source": [
    "import logging\n",
    "class DayFinder:\n",
    "    def __init__(self):\n",
    "        self.days = (\"Monday\", \"Tuesday\", \"Wednesday\", \"Thursday\", \"Friday\", \"Saturday\", \"Sunday\")\n",
    "\n",
    "    def find_day(self, day_number):\n",
    "        try:\n",
    "            if 1 <= day_number <= 7:\n",
    "                return self.days[day_number - 1]\n",
    "            else:\n",
    "                raise ValueError(\"Invalid day number.\")\n",
    "        except Exception as e:\n",
    "            logging.error(f\"Error finding day: {e}\")\n",
    "            return None \n",
    "\n",
    "day_finder = DayFinder()\n",
    "day_number = int(input(\"Enter a day number (1-7): \"))\n",
    "day = day_finder.find_day(day_number)\n",
    "\n",
    "if day:\n",
    "    print(f\"Day {day_number} is {day}.\")\n",
    "else:\n",
    "    print(\"Invalid day number.\")"
   ]
  },
  {
   "cell_type": "code",
   "execution_count": 4,
   "id": "1fd291dd-c838-4850-9c9c-e8e2fc952cb4",
   "metadata": {},
   "outputs": [],
   "source": [
    "import logging\n",
    "\n",
    "class CoordinateUnpacker:\n",
    "    def __init__(self, coordinates):\n",
    "        self.coordinates = coordinates\n",
    "\n",
    "    def unpack_coordinates(self):\n",
    "        try:\n",
    "            x, y = self.coordinates  # Unpack directly into variables\n",
    "            logging.info(f\"x: {x}, y: {y}\")\n",
    "        except Exception as e:\n",
    "            logging.error(f\"Error unpacking coordinates: {e}\")\n",
    "\n",
    "# Example usage\n",
    "coordinates = (5, 10)\n",
    "coord_unpacker = CoordinateUnpacker(coordinates)\n",
    "coord_unpacker.unpack_coordinates()"
   ]
  },
  {
   "cell_type": "code",
   "execution_count": 4,
   "id": "185596c7-383a-458b-bdff-4bcc286e551b",
   "metadata": {},
   "outputs": [],
   "source": [
    "import logging\n",
    "\n",
    "class TupleConcatenator:\n",
    "    def __init__(self, tup1, tup2):\n",
    "        self.tup1 = tup1\n",
    "        self.tup2 = tup2\n",
    "\n",
    "    def concatenate_tuples(self):\n",
    "        try:\n",
    "            concatenated_tuple = self.tup1 + self.tup2  # Use the + operator for concatenation\n",
    "            logging.info(f\"Concatenated tuple: {concatenated_tuple}\")\n",
    "        except Exception as e:\n",
    "            logging.error(f\"Error concatenating tuples: {e}\")\n",
    "\n",
    "# Example usage\n",
    "tup1 = (1, 2, 3)\n",
    "tup2 = (4, 5, 6)\n",
    "tuple_concatenator = TupleConcatenator(tup1, tup2)\n",
    "tuple_concatenator.concatenate_tuples()"
   ]
  },
  {
   "cell_type": "code",
   "execution_count": 5,
   "id": "6f9a6095-5ee8-4b89-95c5-d0c7f1ed3d51",
   "metadata": {},
   "outputs": [],
   "source": [
    "import logging\n",
    "\n",
    "class SubTupleExtractor:\n",
    "    def __init__(self, tup):\n",
    "        self.tup = tup\n",
    "\n",
    "    def extract_sub_tuple(self):\n",
    "        try:\n",
    "            middle_index = len(self.tup) // 2\n",
    "            sub_tuple = self.tup[middle_index - 1: middle_index + 2]  # Extract middle three elements\n",
    "            logging.info(f\"Sub-tuple: {sub_tuple}\")\n",
    "        except Exception as e:\n",
    "            logging.error(f\"Error extracting sub-tuple: {e}\")\n",
    "\n",
    "# Example usage\n",
    "numbers = (10, 20, 30, 40, 50)\n",
    "sub_tuple_extractor = SubTupleExtractor(numbers)\n",
    "sub_tuple_extractor.extract_sub_tuple()"
   ]
  },
  {
   "cell_type": "code",
   "execution_count": 6,
   "id": "5e37870d-6b62-463c-bfe7-e9237ddd50a0",
   "metadata": {},
   "outputs": [
    {
     "name": "stderr",
     "output_type": "stream",
     "text": [
      "ERROR:root:Error modifying tuple: 'tuple' object does not support item assignment\n"
     ]
    }
   ],
   "source": [
    "import logging\n",
    "\n",
    "class TupleImmutabilityDemonstrator:\n",
    "    def __init__(self, tup):\n",
    "        self.tup = tup\n",
    "\n",
    "    def modify_tuple(self):\n",
    "        try:\n",
    "            self.tup[0] = \"new_value\"  # Attempt to modify an element\n",
    "            logging.info(\"Tuple modified successfully.\")  # This line won't execute\n",
    "        except TypeError as e:\n",
    "            logging.error(f\"Error modifying tuple: {e}\")\n",
    "            logging.info(f\"Explanation: Tuples are immutable, meaning their elements cannot be changed after creation.\")\n",
    "\n",
    "# Example usage\n",
    "my_tuple = (1, 2, 3)\n",
    "demonstrator = TupleImmutabilityDemonstrator(my_tuple)\n",
    "demonstrator.modify_tuple()"
   ]
  },
  {
   "cell_type": "code",
   "execution_count": 6,
   "id": "f78bfc2f-cef8-401b-88c7-36d9ef5ceafb",
   "metadata": {},
   "outputs": [],
   "source": [
    " import logging\n",
    "\n",
    "class ElementFinder:\n",
    "    def __init__(self, tup):\n",
    "        self.tup = tup\n",
    "\n",
    "    def count_and_find_element(self, element):\n",
    "        try:\n",
    "            count = self.tup.count(element)  # Count occurrences\n",
    "            position = self.tup.index(element)  # Find first occurrence\n",
    "            logging.info(f\"Element '{element}' appears {count} times.\")\n",
    "            logging.info(f\"First occurrence of '{element}' is at index {position}.\")\n",
    "        except ValueError as e:\n",
    "            logging.error(f\"Element '{element}' not found in tuple.\")\n",
    "\n",
    "# Example usage\n",
    "mixed_tuple = (1, \"hello\", 3.14, \"hello\", True)\n",
    "element_finder = ElementFinder(mixed_tuple)\n",
    "element_finder.count_and_find_element(\"hello\")"
   ]
  },
  {
   "cell_type": "code",
   "execution_count": 5,
   "id": "7f7f36d4-393b-4a02-a4b2-86e80553b5c6",
   "metadata": {},
   "outputs": [],
   "source": [
    "import logging\n",
    "\n",
    "class TupleComparator:\n",
    "    def compare_tuples(self, tuple1, tuple2):\n",
    "        try:\n",
    "            if tuple1 == tuple2:\n",
    "                logging.info(\"Tuples are equal.\")\n",
    "            elif tuple1 > tuple2:\n",
    "                logging.info(\"Tuple 1 is greater than tuple 2.\")\n",
    "            else:\n",
    "                logging.info(\"Tuple 2 is greater than tuple 1.\")\n",
    "        except Exception:\n",
    "            logging.error(\"Error comparing tuples. Check data types and lengths.\")\n",
    "\n",
    "# Example usage\n",
    "comparator = TupleComparator()\n",
    "numbers1 = (1, 2, 3)\n",
    "numbers2 = (3, 2, 1)\n",
    "comparator.compare_tuples(numbers1, numbers2)  # Output: Tuple 2 is greater than tuple 1."
   ]
  },
  {
   "cell_type": "code",
   "execution_count": 8,
   "id": "2bcb3b21-4c54-4ecc-8d8f-634caa28308b",
   "metadata": {},
   "outputs": [
    {
     "name": "stdout",
     "output_type": "stream",
     "text": [
      "Collected arguments as tuple: (1, 'hello', 3.14)\n"
     ]
    }
   ],
   "source": [
    "import logging\n",
    "\n",
    "class DataProcessor:\n",
    "    def collect_arguments(self, *args):\n",
    "        \"\"\"Collects and returns a tuple of arguments.\"\"\"\n",
    "        try:\n",
    "            logging.info(f\"Collected arguments: {args}\")\n",
    "            return tuple(args)\n",
    "        except Exception as e:\n",
    "            logging.error(f\"Error collecting arguments: {e}\")\n",
    "            return None\n",
    "\n",
    "# Example usage\n",
    "arguments = DataProcessor().collect_arguments(1, \"hello\", 3.14)\n",
    "print(f\"Collected arguments as tuple: {arguments}\")"
   ]
  },
  {
   "cell_type": "code",
   "execution_count": null,
   "id": "826d77a5-63aa-41a4-98ea-aab5040fc13c",
   "metadata": {},
   "outputs": [],
   "source": []
  }
 ],
 "metadata": {
  "kernelspec": {
   "display_name": "Python 3 (ipykernel)",
   "language": "python",
   "name": "python3"
  },
  "language_info": {
   "codemirror_mode": {
    "name": "ipython",
    "version": 3
   },
   "file_extension": ".py",
   "mimetype": "text/x-python",
   "name": "python",
   "nbconvert_exporter": "python",
   "pygments_lexer": "ipython3",
   "version": "3.11.5"
  }
 },
 "nbformat": 4,
 "nbformat_minor": 5
}
